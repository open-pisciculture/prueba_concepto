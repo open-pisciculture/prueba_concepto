{
 "cells": [
  {
   "cell_type": "code",
   "execution_count": 34,
   "metadata": {
    "scrolled": true
   },
   "outputs": [
    {
     "name": "stdout",
     "output_type": "stream",
     "text": [
      "Got something -------------------------->\n",
      "data type: <class 'bytes'>\n",
      "data length: 7680\n",
      "Got another piece of pkg of len: 7680 (#1)\n",
      "Got another piece of pkg of len: 7680 (#2)\n",
      "Got another piece of pkg of len: 7680 (#3)\n",
      "Got another piece of pkg of len: 7680 (#4)\n",
      "Got another piece of pkg of len: 7680 (#5)\n",
      "Got another piece of pkg of len: 7680 (#6)\n",
      "Got another piece of pkg of len: 7680 (#7)\n",
      "Got another piece of pkg of len: 7680 (#8)\n",
      "Got another piece of pkg of len: 7680 (#9)\n",
      "Got another piece of pkg of len: 7680 (#10)\n",
      "Got another piece of pkg of len: 7680 (#11)\n",
      "Got another piece of pkg of len: 7680 (#12)\n",
      "Got another piece of pkg of len: 7680 (#13)\n",
      "Got another piece of pkg of len: 7680 (#14)\n",
      "Got another piece of pkg of len: 7680 (#15)\n",
      "Got another piece of pkg of len: 7680 (#16)\n",
      "Got another piece of pkg of len: 7680 (#17)\n",
      "Got another piece of pkg of len: 7680 (#18)\n",
      "Got another piece of pkg of len: 7680 (#19)\n",
      "Got another piece of pkg of len: 7680 (#20)\n",
      "Got another piece of pkg of len: 7680 (#21)\n",
      "Got another piece of pkg of len: 7680 (#22)\n",
      "Got another piece of pkg of len: 7680 (#23)\n",
      "Got another piece of pkg of len: 7680 (#24)\n",
      "Got another piece of pkg of len: 7680 (#25)\n",
      "Got another piece of pkg of len: 7680 (#26)\n",
      "Got another piece of pkg of len: 7680 (#27)\n",
      "Got another piece of pkg of len: 7680 (#28)\n",
      "Got another piece of pkg of len: 7680 (#29)\n"
     ]
    }
   ],
   "source": [
    "#!/usr/bin/python3\n",
    "import serial\n",
    "import numpy as np\n",
    "from PIL import Image\n",
    "from PIL import ImageDraw\n",
    "from PIL import ImageFont\n",
    "import io\n",
    "import binascii\n",
    "\n",
    "# from ubi_test import post_request\n",
    "baud_rate = 115200\n",
    "\n",
    "#TODO: Esto es temporal. Mejor que el arduino envie un string que este mejor disenado para recuperar los datos.\n",
    "def obtenerNumero(s):\n",
    "    l = []\n",
    "    for t in s.split():\n",
    "        try:\n",
    "            l.append(float(t))\n",
    "        except ValueError:\n",
    "            pass\n",
    "\n",
    "    return l\n",
    "\n",
    "printBytes = False\n",
    "pieceSize = 7680\n",
    "\n",
    "if __name__ == '__main__':\n",
    "    ser = serial.Serial('/dev/ttyACM0', baud_rate, timeout=1)\n",
    "    ser.reset_input_buffer()\n",
    "    ser.flush()\n",
    "    while True:\n",
    "        try:\n",
    "            # print(\"Waiting for reading...\")\n",
    "            if ser.in_waiting > 0:\n",
    "                print(\"Got something -------------------------->\")\n",
    "                # Read raw serial port\n",
    "                data = ser.read(pieceSize) #.rstrip() # just a very high limit of bytes to read\n",
    "                print(f'data type: {type(data)}')\n",
    "                print(f'data length: {len(data)}')\n",
    "\n",
    "                if len(data) == pieceSize:\n",
    "                    data_pkg = []\n",
    "                    data_pkg.append(np.array(data))\n",
    "                    i = 0\n",
    "                    while True:\n",
    "                        if ser.in_waiting > 0:\n",
    "                            i += 1\n",
    "                            print(f'Got another piece of pkg of len: {len(data)} (#{i})')\n",
    "                            data = ser.read(pieceSize)\n",
    "                            data_pkg.append(np.array(data))\n",
    "                            if len(data) != pieceSize:\n",
    "                                print(f'Received last piece of size {len(data)}\\n')\n",
    "                                break\n",
    "                    print(f'Size of final pkg is {len(np.array(data_pkg).flatten())}')\n",
    "#                     print(f'Last piece was:\\n {data_pkg[-1]}')\n",
    " \n",
    "                if len(data) < 10: # only print if data is short\n",
    "                    print(data)\n",
    "                    if printBytes:\n",
    "                        hexBytes = ',0x'.join('{:02x}'.format(x) for x in data)\n",
    "                        print(f'Data: {hexBytes}\\n')\n",
    "                    else:\n",
    "                        print(data)\n",
    "\n",
    "                # # Read decoded serial port\n",
    "                # line = ser.readline().decode('utf-8').rstrip()\n",
    "\n",
    "                # #desde 19 hasta 25\n",
    "                # num = obtenerNumero(line)[0]\n",
    "                # data = {\"histogram_mean\": num}\n",
    "                # print(data)\n",
    "                # post_request(data)\n",
    "        except KeyboardInterrupt:\n",
    "            ser.close()\n",
    "            break\n",
    "        "
   ]
  },
  {
   "cell_type": "code",
   "execution_count": 33,
   "metadata": {
    "scrolled": false
   },
   "outputs": [
    {
     "data": {
      "text/plain": [
       "8216"
      ]
     },
     "execution_count": 33,
     "metadata": {},
     "output_type": "execute_result"
    }
   ],
   "source": [
    "len(np.frombuffer(data, dtype=np.uint8))"
   ]
  },
  {
   "cell_type": "code",
   "execution_count": 44,
   "metadata": {},
   "outputs": [],
   "source": [
    "import cv2\n",
    "\n",
    "img = np.zeros(320*240*3)\n",
    "for i in range(len(data_pkg)):\n",
    "    img[i*7680 : (i+1)*7680] = np.frombuffer(data_pkg[i], dtype=np.uint8)"
   ]
  },
  {
   "cell_type": "code",
   "execution_count": 53,
   "metadata": {},
   "outputs": [],
   "source": [
    "reshaped_img = np.zeros((320,240,3))\n",
    "\n",
    "for i in range(320*240*3, 9):\n",
    "    reshaped_img[i,i,] = img[]\n"
   ]
  },
  {
   "cell_type": "code",
   "execution_count": 54,
   "metadata": {},
   "outputs": [],
   "source": [
    "pil_img = Image.fromarray(reshaped_img, 'RGB')\n",
    "pil_img.show()"
   ]
  },
  {
   "cell_type": "code",
   "execution_count": null,
   "metadata": {},
   "outputs": [],
   "source": []
  }
 ],
 "metadata": {
  "kernelspec": {
   "display_name": "Python 3",
   "language": "python",
   "name": "python3"
  },
  "language_info": {
   "codemirror_mode": {
    "name": "ipython",
    "version": 3
   },
   "file_extension": ".py",
   "mimetype": "text/x-python",
   "name": "python",
   "nbconvert_exporter": "python",
   "pygments_lexer": "ipython3",
   "version": "3.8.10"
  }
 },
 "nbformat": 4,
 "nbformat_minor": 4
}
