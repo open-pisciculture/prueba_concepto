{
 "cells": [
  {
   "cell_type": "markdown",
   "metadata": {},
   "source": [
    "# Intento 1"
   ]
  },
  {
   "cell_type": "code",
   "execution_count": 34,
   "metadata": {
    "scrolled": true
   },
   "outputs": [
    {
     "name": "stdout",
     "output_type": "stream",
     "text": [
      "Got something -------------------------->\n",
      "data type: <class 'bytes'>\n",
      "data length: 7680\n",
      "Got another piece of pkg of len: 7680 (#1)\n",
      "Got another piece of pkg of len: 7680 (#2)\n",
      "Got another piece of pkg of len: 7680 (#3)\n",
      "Got another piece of pkg of len: 7680 (#4)\n",
      "Got another piece of pkg of len: 7680 (#5)\n",
      "Got another piece of pkg of len: 7680 (#6)\n",
      "Got another piece of pkg of len: 7680 (#7)\n",
      "Got another piece of pkg of len: 7680 (#8)\n",
      "Got another piece of pkg of len: 7680 (#9)\n",
      "Got another piece of pkg of len: 7680 (#10)\n",
      "Got another piece of pkg of len: 7680 (#11)\n",
      "Got another piece of pkg of len: 7680 (#12)\n",
      "Got another piece of pkg of len: 7680 (#13)\n",
      "Got another piece of pkg of len: 7680 (#14)\n",
      "Got another piece of pkg of len: 7680 (#15)\n",
      "Got another piece of pkg of len: 7680 (#16)\n",
      "Got another piece of pkg of len: 7680 (#17)\n",
      "Got another piece of pkg of len: 7680 (#18)\n",
      "Got another piece of pkg of len: 7680 (#19)\n",
      "Got another piece of pkg of len: 7680 (#20)\n",
      "Got another piece of pkg of len: 7680 (#21)\n",
      "Got another piece of pkg of len: 7680 (#22)\n",
      "Got another piece of pkg of len: 7680 (#23)\n",
      "Got another piece of pkg of len: 7680 (#24)\n",
      "Got another piece of pkg of len: 7680 (#25)\n",
      "Got another piece of pkg of len: 7680 (#26)\n",
      "Got another piece of pkg of len: 7680 (#27)\n",
      "Got another piece of pkg of len: 7680 (#28)\n",
      "Got another piece of pkg of len: 7680 (#29)\n"
     ]
    }
   ],
   "source": [
    "#!/usr/bin/python3\n",
    "import serial\n",
    "import numpy as np\n",
    "from PIL import Image\n",
    "from PIL import ImageDraw\n",
    "from PIL import ImageFont\n",
    "import io\n",
    "import binascii\n",
    "\n",
    "# from ubi_test import post_request\n",
    "baud_rate = 115200\n",
    "\n",
    "#TODO: Esto es temporal. Mejor que el arduino envie un string que este mejor disenado para recuperar los datos.\n",
    "def obtenerNumero(s):\n",
    "    l = []\n",
    "    for t in s.split():\n",
    "        try:\n",
    "            l.append(float(t))\n",
    "        except ValueError:\n",
    "            pass\n",
    "\n",
    "    return l\n",
    "\n",
    "printBytes = False\n",
    "pieceSize = 7680\n",
    "\n",
    "if __name__ == '__main__':\n",
    "    ser = serial.Serial('/dev/ttyACM0', baud_rate, timeout=1)\n",
    "    ser.reset_input_buffer()\n",
    "    ser.flush()\n",
    "    while True:\n",
    "        try:\n",
    "            # print(\"Waiting for reading...\")\n",
    "            if ser.in_waiting > 0:\n",
    "                print(\"Got something -------------------------->\")\n",
    "                # Read raw serial port\n",
    "                data = ser.read(pieceSize) #.rstrip() # just a very high limit of bytes to read\n",
    "                print(f'data type: {type(data)}')\n",
    "                print(f'data length: {len(data)}')\n",
    "\n",
    "                if len(data) == pieceSize:\n",
    "                    data_pkg = []\n",
    "                    data_pkg.append(np.array(data))\n",
    "                    i = 0\n",
    "                    while True:\n",
    "                        if ser.in_waiting > 0:\n",
    "                            i += 1\n",
    "                            print(f'Got another piece of pkg of len: {len(data)} (#{i})')\n",
    "                            data = ser.read(pieceSize)\n",
    "                            data_pkg.append(np.array(data))\n",
    "                            if len(data) != pieceSize:\n",
    "                                print(f'Received last piece of size {len(data)}\\n')\n",
    "                                break\n",
    "                    print(f'Size of final pkg is {len(np.array(data_pkg).flatten())}')\n",
    "#                     print(f'Last piece was:\\n {data_pkg[-1]}')\n",
    " \n",
    "                if len(data) < 10: # only print if data is short\n",
    "                    print(data)\n",
    "                    if printBytes:\n",
    "                        hexBytes = ',0x'.join('{:02x}'.format(x) for x in data)\n",
    "                        print(f'Data: {hexBytes}\\n')\n",
    "                    else:\n",
    "                        print(data)\n",
    "\n",
    "                # # Read decoded serial port\n",
    "                # line = ser.readline().decode('utf-8').rstrip()\n",
    "\n",
    "                # #desde 19 hasta 25\n",
    "                # num = obtenerNumero(line)[0]\n",
    "                # data = {\"histogram_mean\": num}\n",
    "                # print(data)\n",
    "                # post_request(data)\n",
    "        except KeyboardInterrupt:\n",
    "            ser.close()\n",
    "            break\n",
    "        "
   ]
  },
  {
   "cell_type": "code",
   "execution_count": 33,
   "metadata": {
    "scrolled": false
   },
   "outputs": [
    {
     "data": {
      "text/plain": [
       "8216"
      ]
     },
     "execution_count": 33,
     "metadata": {},
     "output_type": "execute_result"
    }
   ],
   "source": [
    "len(np.frombuffer(data, dtype=np.uint8))"
   ]
  },
  {
   "cell_type": "code",
   "execution_count": 44,
   "metadata": {},
   "outputs": [],
   "source": [
    "import cv2\n",
    "\n",
    "img = np.zeros(320*240*3)\n",
    "for i in range(len(data_pkg)):\n",
    "    img[i*7680 : (i+1)*7680] = np.frombuffer(data_pkg[i], dtype=np.uint8)"
   ]
  },
  {
   "cell_type": "code",
   "execution_count": 75,
   "metadata": {},
   "outputs": [],
   "source": [
    "import time\n",
    "\n",
    "reshaped_flattened_img = np.zeros(320*240*3)\n",
    "# [B0, G1, R2, G0, R1, B3, R0, B2, G3, B1, G2, R3, ... B4, G5, R6, G4, R5, B7, R4, B6, G7, B5, G6, R7]\n",
    "\n",
    "for i in range(0, 320*240*3, 12):\n",
    "    reshaped_flattened_img[i+0] = img[i+6]\n",
    "    reshaped_flattened_img[i+1] = img[i+3]\n",
    "    reshaped_flattened_img[i+2] = img[i+0]\n",
    "    \n",
    "    reshaped_flattened_img[i+3] = img[i+4]\n",
    "    reshaped_flattened_img[i+4] = img[i+1]\n",
    "    reshaped_flattened_img[i+5] = img[i+9]\n",
    "    \n",
    "    reshaped_flattened_img[i+6] = img[i+2]\n",
    "    reshaped_flattened_img[i+7] = img[i+10]\n",
    "    reshaped_flattened_img[i+8] = img[i+7]\n",
    "    \n",
    "    reshaped_flattened_img[i+9] = img[i+11]\n",
    "    reshaped_flattened_img[i+10] = img[i+8]\n",
    "    reshaped_flattened_img[i+11] = img[i+5]\n",
    "\n",
    "\n",
    "reshaped_img = np.zeros((320,240,3))\n",
    "# [R0, G0, B0, R1, G1, B1, ...]\n",
    "for i in range(320):\n",
    "    for j in range(240):\n",
    "        reshaped_img[i,j,0] = reshaped_flattened_img[(i*240+j)*3 + 0]\n",
    "        reshaped_img[i,j,1] = reshaped_flattened_img[(i*240+j)*3 + 1]\n",
    "        reshaped_img[i,j,2] = reshaped_flattened_img[(i*240+j)*3 + 2]"
   ]
  },
  {
   "cell_type": "markdown",
   "metadata": {},
   "source": [
    "# Intento 2: Convertir desde JPEG a RGB888"
   ]
  },
  {
   "cell_type": "code",
   "execution_count": 9,
   "metadata": {
    "scrolled": false
   },
   "outputs": [
    {
     "name": "stdout",
     "output_type": "stream",
     "text": [
      "Got something\n",
      "Read image of length 3118, size (240, 320, 3) with format JPEG\n"
     ]
    }
   ],
   "source": [
    "#!/usr/bin/python3\n",
    "import random\n",
    "import serial\n",
    "from PIL import Image\n",
    "from PIL import ImageDraw\n",
    "from PIL import ImageFont\n",
    "import io\n",
    "import binascii\n",
    "import numpy as np\n",
    "\n",
    "# from ubi_test import post_request\n",
    "baud_rate = 115200\n",
    "\n",
    "#TODO: Esto es temporal. Mejor que el arduino envie un string que este mejor disenado para recuperar los datos.\n",
    "def obtenerNumero(s):\n",
    "    l = []\n",
    "    for t in s.split():\n",
    "        try:\n",
    "            l.append(float(t))\n",
    "        except ValueError:\n",
    "            pass\n",
    "\n",
    "    return l\n",
    "\n",
    "if __name__ == '__main__':\n",
    "    ser = serial.Serial('/dev/ttyACM0', baud_rate, timeout=1)\n",
    "    ser.flush()\n",
    "    while True:\n",
    "        try:\n",
    "            # print(\"Waiting for reading...\")\n",
    "            if ser.in_waiting > 0:\n",
    "                print(\"Got something\")\n",
    "                # Read raw serial port\n",
    "                data = ser.read(20000)#.rstrip() # 6000 is just a very high limit of bytes to read\n",
    "                # print(data)\n",
    "\n",
    "                # r_data = binascii.unhexlify(data)\n",
    "                r_data = data\n",
    "                #r_data = \"\".unhexlify(chr(int(b_data[i:i+2],16)) for i in range(0, len(b_data),2))\n",
    "\n",
    "                try:\n",
    "                    stream = io.BytesIO(r_data)\n",
    "\n",
    "                    img = Image.open(stream)\n",
    "                    draw = ImageDraw.Draw(img)\n",
    "                    print(f'Read image of length {len(r_data)}, size {np.array(img).shape} with format {img.format}')\n",
    "                    img.show()\n",
    "\n",
    "                    img_name = \"a_test\" + str(int(random.random()*100)) + \".png\"\n",
    "                    img.save(img_name)\n",
    "                except Exception as e:\n",
    "                    print(f'Error reading data of len {len(data)} because of: {e}')\n",
    "\n",
    "                # print(data)\n",
    "\n",
    "                # # Read decoded serial port\n",
    "                # line = ser.readline().decode('utf-8').rstrip()\n",
    "\n",
    "                # #desde 19 hasta 25\n",
    "                # num = obtenerNumero(line)[0]\n",
    "                # data = {\"histogram_mean\": num}\n",
    "                # print(data)\n",
    "                # post_request(data)\n",
    "        except KeyboardInterrupt:\n",
    "            ser.close()\n",
    "            break\n",
    "        "
   ]
  },
  {
   "cell_type": "code",
   "execution_count": 13,
   "metadata": {},
   "outputs": [
    {
     "data": {
      "text/plain": [
       "array([ 87, 130,  59], dtype=uint8)"
      ]
     },
     "execution_count": 13,
     "metadata": {},
     "output_type": "execute_result"
    }
   ],
   "source": [
    "np.array(img)[0,0,:]"
   ]
  },
  {
   "cell_type": "code",
   "execution_count": 12,
   "metadata": {
    "scrolled": false
   },
   "outputs": [
    {
     "data": {
      "text/plain": [
       "array([ 87, 130,  59], dtype=uint8)"
      ]
     },
     "execution_count": 12,
     "metadata": {},
     "output_type": "execute_result"
    }
   ],
   "source": [
    "np.array(img.convert('RGB'))[0,0,:]"
   ]
  },
  {
   "cell_type": "code",
   "execution_count": null,
   "metadata": {},
   "outputs": [],
   "source": []
  }
 ],
 "metadata": {
  "kernelspec": {
   "display_name": "Python 3",
   "language": "python",
   "name": "python3"
  },
  "language_info": {
   "codemirror_mode": {
    "name": "ipython",
    "version": 3
   },
   "file_extension": ".py",
   "mimetype": "text/x-python",
   "name": "python",
   "nbconvert_exporter": "python",
   "pygments_lexer": "ipython3",
   "version": "3.8.10"
  }
 },
 "nbformat": 4,
 "nbformat_minor": 4
}
